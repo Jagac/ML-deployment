{
 "cells": [
  {
   "cell_type": "code",
   "execution_count": 2,
   "id": "963af8ca",
   "metadata": {},
   "outputs": [],
   "source": [
    "import pandas as pd\n",
    "import tensorflow as tf\n",
    "from tensorflow.keras.datasets import mnist\n",
    "from tensorflow.keras.layers import *\n",
    "from tensorflow.keras.models import Sequential\n",
    "from tensorflow.keras.callbacks import ModelCheckpoint"
   ]
  },
  {
   "cell_type": "code",
   "execution_count": 3,
   "id": "c351edfc",
   "metadata": {},
   "outputs": [
    {
     "name": "stdout",
     "output_type": "stream",
     "text": [
      "Downloading data from https://storage.googleapis.com/tensorflow/tf-keras-datasets/mnist.npz\n",
      "11493376/11490434 [==============================] - 0s 0us/step\n",
      "11501568/11490434 [==============================] - 0s 0us/step\n"
     ]
    }
   ],
   "source": [
    "(X_train,y_train), (X_test,y_test)= mnist.load_data()"
   ]
  },
  {
   "cell_type": "code",
   "execution_count": 4,
   "id": "84df9b16",
   "metadata": {},
   "outputs": [
    {
     "data": {
      "text/plain": [
       "(60000, 28, 28)"
      ]
     },
     "execution_count": 4,
     "metadata": {},
     "output_type": "execute_result"
    }
   ],
   "source": [
    "X_train.shape"
   ]
  },
  {
   "cell_type": "code",
   "execution_count": 5,
   "id": "0f6ab624",
   "metadata": {},
   "outputs": [],
   "source": [
    "def preprocess_image(images):\n",
    "    images = images/255\n",
    "    return images\n",
    "X_train = preprocess_image(X_train)\n",
    "X_test = preprocess_image(X_test)"
   ]
  },
  {
   "cell_type": "code",
   "execution_count": 6,
   "id": "46638d03",
   "metadata": {},
   "outputs": [
    {
     "name": "stdout",
     "output_type": "stream",
     "text": [
      "Model: \"sequential\"\n",
      "_________________________________________________________________\n",
      " Layer (type)                Output Shape              Param #   \n",
      "=================================================================\n",
      " flatten (Flatten)           (None, 784)               0         \n",
      "                                                                 \n",
      " dense (Dense)               (None, 32)                25120     \n",
      "                                                                 \n",
      " dense_1 (Dense)             (None, 10)                330       \n",
      "                                                                 \n",
      " softmax (Softmax)           (None, 10)                0         \n",
      "                                                                 \n",
      "=================================================================\n",
      "Total params: 25,450\n",
      "Trainable params: 25,450\n",
      "Non-trainable params: 0\n",
      "_________________________________________________________________\n"
     ]
    }
   ],
   "source": [
    "model = Sequential()\n",
    "model.add(InputLayer((28, 28)))\n",
    "model.add(Flatten())\n",
    "model.add(Dense(32, 'relu'))\n",
    "model.add(Dense(10))\n",
    "model.add(Softmax())\n",
    "model.compile(loss='sparse_categorical_crossentropy', metrics= ['accuracy'])\n",
    "model.summary()"
   ]
  },
  {
   "cell_type": "code",
   "execution_count": 7,
   "id": "b4c6a34b",
   "metadata": {},
   "outputs": [
    {
     "name": "stdout",
     "output_type": "stream",
     "text": [
      "Epoch 1/5\n",
      "1864/1875 [============================>.] - ETA: 0s - loss: 0.3498 - accuracy: 0.9034INFO:tensorflow:Assets written to: model\\assets\n",
      "1875/1875 [==============================] - 12s 5ms/step - loss: 0.3490 - accuracy: 0.9036 - val_loss: 0.2135 - val_accuracy: 0.9394\n",
      "Epoch 2/5\n",
      "1873/1875 [============================>.] - ETA: 0s - loss: 0.1996 - accuracy: 0.9438INFO:tensorflow:Assets written to: model\\assets\n",
      "1875/1875 [==============================] - 9s 5ms/step - loss: 0.1995 - accuracy: 0.9438 - val_loss: 0.1725 - val_accuracy: 0.9500\n",
      "Epoch 3/5\n",
      "1869/1875 [============================>.] - ETA: 0s - loss: 0.1633 - accuracy: 0.9534INFO:tensorflow:Assets written to: model\\assets\n",
      "1875/1875 [==============================] - 9s 5ms/step - loss: 0.1635 - accuracy: 0.9535 - val_loss: 0.1527 - val_accuracy: 0.9571\n",
      "Epoch 4/5\n",
      "1874/1875 [============================>.] - ETA: 0s - loss: 0.1426 - accuracy: 0.9599INFO:tensorflow:Assets written to: model\\assets\n",
      "1875/1875 [==============================] - 9s 5ms/step - loss: 0.1425 - accuracy: 0.9599 - val_loss: 0.1442 - val_accuracy: 0.9615\n",
      "Epoch 5/5\n",
      "1868/1875 [============================>.] - ETA: 0s - loss: 0.1268 - accuracy: 0.9652INFO:tensorflow:Assets written to: model\\assets\n",
      "1875/1875 [==============================] - 9s 5ms/step - loss: 0.1273 - accuracy: 0.9652 - val_loss: 0.1375 - val_accuracy: 0.9630\n"
     ]
    },
    {
     "data": {
      "text/plain": [
       "<keras.callbacks.History at 0x2a166f0cd30>"
      ]
     },
     "execution_count": 7,
     "metadata": {},
     "output_type": "execute_result"
    }
   ],
   "source": [
    "save_cp = ModelCheckpoint('model', save_best_only=True)\n",
    "history_cp = tf.keras.callbacks.CSVLogger('history.csv', separator=',')\n",
    "model.fit(X_train,y_train, validation_data=(X_test,y_test), epochs=5, callbacks=[save_cp, history_cp])"
   ]
  },
  {
   "cell_type": "code",
   "execution_count": 8,
   "id": "f33dbb65",
   "metadata": {},
   "outputs": [
    {
     "data": {
      "text/html": [
       "<div>\n",
       "<style scoped>\n",
       "    .dataframe tbody tr th:only-of-type {\n",
       "        vertical-align: middle;\n",
       "    }\n",
       "\n",
       "    .dataframe tbody tr th {\n",
       "        vertical-align: top;\n",
       "    }\n",
       "\n",
       "    .dataframe thead th {\n",
       "        text-align: right;\n",
       "    }\n",
       "</style>\n",
       "<table border=\"1\" class=\"dataframe\">\n",
       "  <thead>\n",
       "    <tr style=\"text-align: right;\">\n",
       "      <th></th>\n",
       "      <th>epoch</th>\n",
       "      <th>accuracy</th>\n",
       "      <th>loss</th>\n",
       "      <th>val_accuracy</th>\n",
       "      <th>val_loss</th>\n",
       "    </tr>\n",
       "  </thead>\n",
       "  <tbody>\n",
       "    <tr>\n",
       "      <th>0</th>\n",
       "      <td>0</td>\n",
       "      <td>0.903583</td>\n",
       "      <td>0.348970</td>\n",
       "      <td>0.9394</td>\n",
       "      <td>0.213462</td>\n",
       "    </tr>\n",
       "    <tr>\n",
       "      <th>1</th>\n",
       "      <td>1</td>\n",
       "      <td>0.943800</td>\n",
       "      <td>0.199476</td>\n",
       "      <td>0.9500</td>\n",
       "      <td>0.172454</td>\n",
       "    </tr>\n",
       "    <tr>\n",
       "      <th>2</th>\n",
       "      <td>2</td>\n",
       "      <td>0.953450</td>\n",
       "      <td>0.163463</td>\n",
       "      <td>0.9571</td>\n",
       "      <td>0.152662</td>\n",
       "    </tr>\n",
       "    <tr>\n",
       "      <th>3</th>\n",
       "      <td>3</td>\n",
       "      <td>0.959900</td>\n",
       "      <td>0.142516</td>\n",
       "      <td>0.9615</td>\n",
       "      <td>0.144246</td>\n",
       "    </tr>\n",
       "    <tr>\n",
       "      <th>4</th>\n",
       "      <td>4</td>\n",
       "      <td>0.965167</td>\n",
       "      <td>0.127289</td>\n",
       "      <td>0.9630</td>\n",
       "      <td>0.137512</td>\n",
       "    </tr>\n",
       "  </tbody>\n",
       "</table>\n",
       "</div>"
      ],
      "text/plain": [
       "   epoch  accuracy      loss  val_accuracy  val_loss\n",
       "0      0  0.903583  0.348970        0.9394  0.213462\n",
       "1      1  0.943800  0.199476        0.9500  0.172454\n",
       "2      2  0.953450  0.163463        0.9571  0.152662\n",
       "3      3  0.959900  0.142516        0.9615  0.144246\n",
       "4      4  0.965167  0.127289        0.9630  0.137512"
      ]
     },
     "execution_count": 8,
     "metadata": {},
     "output_type": "execute_result"
    }
   ],
   "source": [
    "import pandas as pd \n",
    "import matplotlib.pyplot as plt\n",
    "\n",
    "history = pd.read_csv('history.csv')\n",
    "history.head()\n"
   ]
  },
  {
   "cell_type": "code",
   "execution_count": 9,
   "id": "6fa391cb",
   "metadata": {},
   "outputs": [
    {
     "data": {
      "image/png": "[encoded data removed]",
      "text/plain": [
       "<Figure size 432x288 with 1 Axes>"
      ]
     },
     "metadata": {
      "needs_background": "light"
     },
     "output_type": "display_data"
    }
   ],
   "source": [
    "fig = plt.figure()\n",
    "plt.plot(history['epoch'], history['accuracy'])\n",
    "plt.plot(history['epoch'], history['val_accuracy'])\n",
    "plt.title('Accuracy vs Epochs')\n",
    "plt.ylabel('Accuracy')\n",
    "plt.xlabel('Epochs')\n",
    "plt.legend(['Train', 'Val'])\n",
    "plt.show()"
   ]
  },
  {
   "cell_type": "code",
   "execution_count": null,
   "id": "7e7e010a",
   "metadata": {},
   "outputs": [],
   "source": []
  }
 ],
 "metadata": {
  "kernelspec": {
   "display_name": "Python 3 (ipykernel)",
   "language": "python",
   "name": "python3"
  },
  "language_info": {
   "codemirror_mode": {
    "name": "ipython",
    "version": 3
   },
   "file_extension": ".py",
   "mimetype": "text/x-python",
   "name": "python",
   "nbconvert_exporter": "python",
   "pygments_lexer": "ipython3",
   "version": "3.8.12"
  }
 },
 "nbformat": 4,
 "nbformat_minor": 5
}
